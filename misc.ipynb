{
 "cells": [
  {
   "cell_type": "code",
   "execution_count": null,
   "id": "8195611c",
   "metadata": {},
   "outputs": [],
   "source": [
    "# s.isnull()\n",
    "# df.sort_index()\n",
    "# df.sort_values()\n",
    "# df.transpose()\n",
    "#     df.t()\n",
    "# df.expanding()\n",
    "# df.rolling()\n",
    "# df.pct_change()\n",
    "# df.diff()\n",
    "# df.groupby()\n",
    "# df.loc()\n",
    "# s.iloc()\n",
    "# df.dropna()\n",
    "# s.unique()\n",
    "# df.join()\n",
    "# df.merge()\n",
    "# df.corr()\n",
    "# s.to_frame()\n",
    "# s.removesuffix()\n",
    "# s.removeprefix()\n",
    "# s.title()\n",
    "# pd.concat()\n",
    "# df.assign()\n",
    "# df.groupby().agg()\n",
    "# df.groupby().filter(fn)\n",
    "# df.groupby().transform(transform_fn)\n",
    "# df.rename()\n",
    "# df.drop_duplicates\n",
    "# df.drop()"
   ]
  }
 ],
 "metadata": {
  "kernelspec": {
   "display_name": "CMI-BFRB",
   "language": "python",
   "name": "python3"
  },
  "language_info": {
   "codemirror_mode": {
    "name": "ipython",
    "version": 3
   },
   "file_extension": ".py",
   "mimetype": "text/x-python",
   "name": "python",
   "nbconvert_exporter": "python",
   "pygments_lexer": "ipython3",
   "version": "3.12.3"
  }
 },
 "nbformat": 4,
 "nbformat_minor": 5
}
