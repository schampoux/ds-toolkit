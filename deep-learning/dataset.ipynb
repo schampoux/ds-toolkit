{
 "cells": [
  {
   "cell_type": "code",
   "execution_count": 1,
   "id": "644162e1",
   "metadata": {},
   "outputs": [],
   "source": [
    "from torchvision import datasets, transforms \n",
    "data_path = './datasets/'\n",
    "cifar10 = datasets.CIFAR10(root = data_path, download=True, train=True)\n",
    "cifar10_val = datasets.CIFAR10(root = data_path, download=True, train=False)"
   ]
  },
  {
   "cell_type": "code",
   "execution_count": 2,
   "id": "73173900",
   "metadata": {},
   "outputs": [
    {
     "data": {
      "text/plain": [
       "((torchvision.datasets.cifar.CIFAR10,\n",
       "  torchvision.datasets.vision.VisionDataset,\n",
       "  torch.utils.data.dataset.Dataset,\n",
       "  typing.Generic,\n",
       "  object),\n",
       " 'Dataset CIFAR10\\n    Number of datapoints: 50000\\n    Root location: ./datasets/\\n    Split: Train')"
      ]
     },
     "execution_count": 2,
     "metadata": {},
     "output_type": "execute_result"
    }
   ],
   "source": [
    "# Print the method resolution order of our dataset instance. \n",
    "# Notice that the dataset is returned as a subclass of torch.utils.data.dataset.Dataset base class. \n",
    "type(cifar10).__mro__, cifar10.__repr__()"
   ]
  },
  {
   "cell_type": "code",
   "execution_count": 3,
   "id": "5a308f33",
   "metadata": {},
   "outputs": [
    {
     "data": {
      "image/png": "[encoded data removed]",
      "text/plain": [
       "<Figure size 640x480 with 1 Axes>"
      ]
     },
     "metadata": {},
     "output_type": "display_data"
    }
   ],
   "source": [
    "# plot one of the images \n",
    "import matplotlib.pyplot as plt \n",
    "\n",
    "img, label = cifar10[99]\n",
    "plt.imshow(img)\n",
    "plt.show()"
   ]
  },
  {
   "cell_type": "code",
   "execution_count": 4,
   "id": "4a9cceca",
   "metadata": {},
   "outputs": [
    {
     "data": {
      "text/plain": [
       "'automobile'"
      ]
     },
     "execution_count": 4,
     "metadata": {},
     "output_type": "execute_result"
    }
   ],
   "source": [
    "class_names = cifar10.classes\n",
    "class_names[label]"
   ]
  },
  {
   "cell_type": "markdown",
   "id": "f4109f8f",
   "metadata": {},
   "source": [
    "### Transform image data on instantiation "
   ]
  },
  {
   "cell_type": "markdown",
   "id": "a17bb8df",
   "metadata": {},
   "source": [
    "Now let's use the `transforms` module from torchvision to convert these PIL images to PyTorch tensors. \n",
    "\n",
    "- This module defines a set of composable function-like objects that can be passed as an argument to a torchvision dataset upon instantiation, and they perform transformations on the data after it is loaded but before it is returned by `__getitem__`\n"
   ]
  },
  {
   "cell_type": "code",
   "execution_count": 5,
   "id": "5fe9a6ac",
   "metadata": {},
   "outputs": [
    {
     "data": {
      "text/plain": [
       "['AugMix',\n",
       " 'AutoAugment',\n",
       " 'AutoAugmentPolicy',\n",
       " 'CenterCrop',\n",
       " 'ColorJitter',\n",
       " 'Compose',\n",
       " 'ConvertImageDtype',\n",
       " 'ElasticTransform',\n",
       " 'FiveCrop',\n",
       " 'GaussianBlur',\n",
       " 'Grayscale',\n",
       " 'InterpolationMode',\n",
       " 'Lambda',\n",
       " 'LinearTransformation',\n",
       " 'Normalize',\n",
       " 'PILToTensor',\n",
       " 'Pad',\n",
       " 'RandAugment',\n",
       " 'RandomAdjustSharpness',\n",
       " 'RandomAffine',\n",
       " 'RandomApply',\n",
       " 'RandomAutocontrast',\n",
       " 'RandomChoice',\n",
       " 'RandomCrop',\n",
       " 'RandomEqualize',\n",
       " 'RandomErasing',\n",
       " 'RandomGrayscale',\n",
       " 'RandomHorizontalFlip',\n",
       " 'RandomInvert',\n",
       " 'RandomOrder',\n",
       " 'RandomPerspective',\n",
       " 'RandomPosterize',\n",
       " 'RandomResizedCrop',\n",
       " 'RandomRotation',\n",
       " 'RandomSolarize',\n",
       " 'RandomVerticalFlip',\n",
       " 'Resize',\n",
       " 'TenCrop',\n",
       " 'ToPILImage',\n",
       " 'ToTensor',\n",
       " 'TrivialAugmentWide',\n",
       " '__builtins__',\n",
       " '__cached__',\n",
       " '__doc__',\n",
       " '__file__',\n",
       " '__loader__',\n",
       " '__name__',\n",
       " '__package__',\n",
       " '__path__',\n",
       " '__spec__',\n",
       " '_functional_pil',\n",
       " '_functional_tensor',\n",
       " '_presets',\n",
       " 'autoaugment',\n",
       " 'functional',\n",
       " 'transforms']"
      ]
     },
     "execution_count": 5,
     "metadata": {},
     "output_type": "execute_result"
    }
   ],
   "source": [
    "from torchvision import transforms \n",
    "dir(transforms)"
   ]
  },
  {
   "cell_type": "code",
   "execution_count": 6,
   "id": "381bd71f",
   "metadata": {},
   "outputs": [
    {
     "data": {
      "text/plain": [
       "torch.Size([3, 32, 32])"
      ]
     },
     "execution_count": 6,
     "metadata": {},
     "output_type": "execute_result"
    }
   ],
   "source": [
    "to_tensor = transforms.ToTensor()\n",
    "img_t = to_tensor(img)\n",
    "img_t.shape"
   ]
  },
  {
   "cell_type": "markdown",
   "id": "2db2ccdc",
   "metadata": {},
   "source": [
    "The image has been turned into a 3x32x32 tensor and therefore a 3-channel (RGB)"
   ]
  },
  {
   "cell_type": "code",
   "execution_count": 7,
   "id": "9bfe34ed",
   "metadata": {},
   "outputs": [],
   "source": [
    "# instantiate the dataset with the transform \n",
    "tensor_cifar10 = datasets.CIFAR10(root=data_path, train=True, download=False, transform = transforms.ToTensor())"
   ]
  },
  {
   "cell_type": "code",
   "execution_count": 8,
   "id": "f06c9c31",
   "metadata": {},
   "outputs": [
    {
     "data": {
      "text/plain": [
       "(torch.Tensor, PIL.Image.Image)"
      ]
     },
     "execution_count": 8,
     "metadata": {},
     "output_type": "execute_result"
    }
   ],
   "source": [
    "img_t, _ = tensor_cifar10[99]\n",
    "type(img_t), type(img)"
   ]
  },
  {
   "cell_type": "code",
   "execution_count": 9,
   "id": "ec535552",
   "metadata": {},
   "outputs": [
    {
     "data": {
      "text/plain": [
       "(torch.float32, torch.Size([3, 32, 32]))"
      ]
     },
     "execution_count": 9,
     "metadata": {},
     "output_type": "execute_result"
    }
   ],
   "source": [
    "img_t.dtype, img_t.shape"
   ]
  },
  {
   "cell_type": "markdown",
   "id": "f9ad45b3",
   "metadata": {},
   "source": [
    "The `.ToTensor()` transform turns the data into a 32-bit floating-point per channel, scaling the values down to the range `0.0` to `1.0`."
   ]
  },
  {
   "cell_type": "code",
   "execution_count": 10,
   "id": "f2f907d2",
   "metadata": {},
   "outputs": [
    {
     "data": {
      "text/plain": [
       "(tensor(0.), tensor(1.))"
      ]
     },
     "execution_count": 10,
     "metadata": {},
     "output_type": "execute_result"
    }
   ],
   "source": [
    "img_t.min(), img_t.max()"
   ]
  },
  {
   "cell_type": "code",
   "execution_count": 11,
   "id": "06998586",
   "metadata": {},
   "outputs": [
    {
     "data": {
      "image/png": "[encoded data removed]",
      "text/plain": [
       "<Figure size 640x480 with 1 Axes>"
      ]
     },
     "metadata": {},
     "output_type": "display_data"
    }
   ],
   "source": [
    "# plotting img_t: a tensor of image data \n",
    "plt.imshow(img_t.permute(1,2,0))\n",
    "plt.show()"
   ]
  },
  {
   "cell_type": "markdown",
   "id": "c62e7631",
   "metadata": {},
   "source": [
    "Transforms can be chained using `transforms.Compose`. They can handle normalization and data augmentation transparently. \n",
    "- Each channel having zero mean and unitary standard deviation. \n",
    "- It is good practice to normalize the dataset so that each channel has zero mean and unitary standard deviation. \n",
    "    By choosing activation functions that are linear around `0` plus or minus `1`(or`2`), keeping the data in the same range means it's more likely that neurons have nonzero gradients and hence will learn sooner. \n",
    "- Also, Normalizing each channel so that it has the same distribution will ensure that channel information can be mixed and update through gradient descent using the same learning rate. \n",
    "- `transforms.Normalize` takes mean and stdev as arguments. \n"
   ]
  },
  {
   "cell_type": "markdown",
   "id": "0deda0b7",
   "metadata": {},
   "source": [
    "### Normalizing our tensors"
   ]
  },
  {
   "cell_type": "code",
   "execution_count": 12,
   "id": "2a84d921",
   "metadata": {},
   "outputs": [
    {
     "data": {
      "text/plain": [
       "torch.Size([3, 32, 32, 50000])"
      ]
     },
     "execution_count": 12,
     "metadata": {},
     "output_type": "execute_result"
    }
   ],
   "source": [
    "# using transforms.Normalize, we can compute the mean value and the standard deviation of each channel across the dataset \n",
    "# then apply the following transform: v_n[c] = (v[c] - mean[c]) / stdev[c]\n",
    "import torch \n",
    "\n",
    "imgs = torch.stack([img_t for img_t, _ in tensor_cifar10], dim=3)\n",
    "imgs.shape"
   ]
  },
  {
   "cell_type": "markdown",
   "id": "59df187c",
   "metadata": {},
   "source": [
    "`3` channels (RGB), with height `32`, width`32`, and `50000` of these (images). "
   ]
  },
  {
   "cell_type": "code",
   "execution_count": 13,
   "id": "07c57645",
   "metadata": {},
   "outputs": [
    {
     "data": {
      "text/plain": [
       "(tensor([0.4914, 0.4822, 0.4465]), tensor([0.2470, 0.2435, 0.2616]))"
      ]
     },
     "execution_count": 13,
     "metadata": {},
     "output_type": "execute_result"
    }
   ],
   "source": [
    "imgs.view(3,-1).mean(dim=1), imgs.view(3,-1).std(dim=1)"
   ]
  },
  {
   "cell_type": "code",
   "execution_count": 14,
   "id": "24b07b4f",
   "metadata": {},
   "outputs": [
    {
     "data": {
      "text/plain": [
       "Normalize(mean=(0.4914, 0.4822, 0.4465), std=(0.247, 0.2435, 0.2616))"
      ]
     },
     "execution_count": 14,
     "metadata": {},
     "output_type": "execute_result"
    }
   ],
   "source": [
    "transforms.Normalize(mean = (0.4914, 0.4822, 0.4465), std=(0.2470, 0.2435, 0.2616))"
   ]
  },
  {
   "cell_type": "code",
   "execution_count": 15,
   "id": "18a90be8",
   "metadata": {},
   "outputs": [],
   "source": [
    "transformed_cifar10 = datasets.CIFAR10(\n",
    "    root = data_path, \n",
    "    download=False, \n",
    "    train=True, \n",
    "    transform = transforms.Compose([\n",
    "        transforms.ToTensor(),\n",
    "        transforms.Normalize(mean = (0.4914, 0.4822, 0.4465), std=(0.2470, 0.2435, 0.2616)),\n",
    "    ])\n",
    ")"
   ]
  },
  {
   "cell_type": "markdown",
   "id": "cd9c1ff4",
   "metadata": {},
   "source": [
    "Plotting the normalized image "
   ]
  },
  {
   "cell_type": "code",
   "execution_count": 16,
   "id": "37faff71",
   "metadata": {},
   "outputs": [
    {
     "name": "stderr",
     "output_type": "stream",
     "text": [
      "Clipping input data to the valid range for imshow with RGB data ([0..1] for floats or [0..255] for integers). Got range [-1.9802876..2.1264887].\n"
     ]
    },
    {
     "data": {
      "image/png": "[encoded data removed]",
      "text/plain": [
       "<Figure size 640x480 with 1 Axes>"
      ]
     },
     "metadata": {},
     "output_type": "display_data"
    }
   ],
   "source": [
    "img_t, label = transformed_cifar10[99]\n",
    "plt.imshow(img_t.permute(1,2,0))\n",
    "plt.show()"
   ]
  },
  {
   "cell_type": "markdown",
   "id": "e4b94b9e",
   "metadata": {},
   "source": [
    "### Building the Dataset, testing the model. "
   ]
  },
  {
   "cell_type": "code",
   "execution_count": 17,
   "id": "2c1d3a40",
   "metadata": {},
   "outputs": [],
   "source": [
    "class_names = ['airplane', 'bird']\n",
    "label_map = {0:0, 2:1}\n",
    "cifar2 = [(img, label_map[label]) for img, label in cifar10 if label in [0,2]]\n",
    "cifar2_val = [(img, label_map[label]) for img, label in cifar10_val if label in [0,2]]"
   ]
  },
  {
   "cell_type": "code",
   "execution_count": 18,
   "id": "c6af6da4",
   "metadata": {},
   "outputs": [],
   "source": [
    "import torch.nn as nn \n",
    "n_out = 2\n",
    "model = nn.Sequential(\n",
    "    nn.Linear(3072, 512),\n",
    "    nn.Tanh(),\n",
    "    nn.Linear(512, n_out),\n",
    "    nn.Softmax(dim=1)\n",
    ")"
   ]
  },
  {
   "cell_type": "markdown",
   "id": "c4584861",
   "metadata": {},
   "source": [
    "Understanding that the output is categorical (airplane, bird), therefore we should use one-hot-encoding representation. In the ideal case, the network would output `torch.tensor([1.0, 0.0])` for an airplane, `torch.tensor([0.0, 1.0])` for a bird, but since our classifier will not be perfect, we can expect the network to output something in between. **We can interpret our output as probabilities i.e. the first entry is the probability of 'airplane', and the second is the probability of 'bird'.** \n",
    "- Each element of the output must be in the `[0.0, 1.0]` range. \n",
    "- The elements of the output must add up to 1.0. \n",
    "\n",
    "In other words, a probability of an outcome cannot be less than 0 or greater than 1, and we are certain that one of the two outcomes will occur. "
   ]
  },
  {
   "cell_type": "markdown",
   "id": "f83de428",
   "metadata": {},
   "source": [
    "**Softmax** is a function that takes a vector of values and produces another vector of the same dimension, where the values satisfy the constraints listed above. "
   ]
  },
  {
   "cell_type": "code",
   "execution_count": 19,
   "id": "5d1feec4",
   "metadata": {},
   "outputs": [
    {
     "data": {
      "text/plain": [
       "(tensor([0.0900, 0.2447, 0.6652]), tensor(1.))"
      ]
     },
     "execution_count": 19,
     "metadata": {},
     "output_type": "execute_result"
    }
   ],
   "source": [
    "def softmax(x):\n",
    "    return torch.exp(x) / torch.exp(x).sum()\n",
    "x = torch.tensor([1.0, 2.0, 3.0])\n",
    "softmax(x), softmax(x).sum()"
   ]
  },
  {
   "cell_type": "code",
   "execution_count": 20,
   "id": "99bf0422",
   "metadata": {},
   "outputs": [
    {
     "data": {
      "text/plain": [
       "tensor([[0.0900, 0.2447, 0.6652],\n",
       "        [0.0900, 0.2447, 0.6652]])"
      ]
     },
     "execution_count": 20,
     "metadata": {},
     "output_type": "execute_result"
    }
   ],
   "source": [
    "import torch.nn as nn \n",
    "x = torch.tensor([[1.0,2.0,3.0],[1.0,2.0,3.0]])\n",
    "# in this example, each row is a different input vector\n",
    "# Apply softmax ALONG the columns. i.e. ALONG dimension 1. \n",
    "softmax = nn.Softmax(dim=1)\n",
    "softmax(x)"
   ]
  },
  {
   "cell_type": "code",
   "execution_count": 21,
   "id": "5855ecf6",
   "metadata": {},
   "outputs": [
    {
     "data": {
      "image/jpeg": "[encoded data removed]",
      "image/png": "[encoded data removed]",
      "text/plain": [
       "<PIL.Image.Image image mode=RGB size=32x32>"
      ]
     },
     "execution_count": 21,
     "metadata": {},
     "output_type": "execute_result"
    }
   ],
   "source": [
    "img, _ = cifar2[0]\n",
    "img"
   ]
  },
  {
   "cell_type": "code",
   "execution_count": 22,
   "id": "e9663aa9",
   "metadata": {},
   "outputs": [
    {
     "data": {
      "image/png": "[encoded data removed]",
      "text/plain": [
       "<Figure size 640x480 with 1 Axes>"
      ]
     },
     "metadata": {},
     "output_type": "display_data"
    }
   ],
   "source": [
    "img_t_t = to_tensor(img)\n",
    "plt.imshow(img_t_t.permute(1,2,0))\n",
    "plt.show()"
   ]
  },
  {
   "cell_type": "markdown",
   "id": "773a66b5",
   "metadata": {},
   "source": [
    "Note, our model expects 3072 features (3x32x32) in the input. Also, `nn` works with data organized into batches. So after we obtain a 1d tensor of length 3072, unsqueeze it to produce a batch dimension. "
   ]
  },
  {
   "cell_type": "code",
   "execution_count": 23,
   "id": "46fece69",
   "metadata": {},
   "outputs": [
    {
     "data": {
      "text/plain": [
       "torch.Size([1, 3072])"
      ]
     },
     "execution_count": 23,
     "metadata": {},
     "output_type": "execute_result"
    }
   ],
   "source": [
    "# test the model \n",
    "img_batch = img_t_t.view(-1).unsqueeze(0)\n",
    "img_batch.size()\n"
   ]
  },
  {
   "cell_type": "code",
   "execution_count": 28,
   "id": "322c5fc9",
   "metadata": {},
   "outputs": [
    {
     "data": {
      "text/plain": [
       "tensor([[0.5658, 0.4342]], grad_fn=<SoftmaxBackward0>)"
      ]
     },
     "execution_count": 28,
     "metadata": {},
     "output_type": "execute_result"
    }
   ],
   "source": [
    "out = model(img_batch)\n",
    "out"
   ]
  },
  {
   "cell_type": "markdown",
   "id": "ef1b0d5a",
   "metadata": {},
   "source": [
    "The output is meaningless, because the weights and biases for our linear layers have not been trained. Their elements are initialized randomly by PyTorch between -1.0 and 1.0. \n",
    "\n",
    "Furthermore, the model is not aware of which output probability is which. The loss function associates meaning with these two numbers after backpropogation, and since the loss function was not run, there is no meaning. "
   ]
  },
  {
   "cell_type": "markdown",
   "id": "d728b301",
   "metadata": {},
   "source": [
    "### Loss Function for Classification "
   ]
  },
  {
   "cell_type": "markdown",
   "id": "df9476d2",
   "metadata": {},
   "source": [
    "After training, we will be able to get the label as an index by computing the argmax of the output probabilities. That is, the index at which we get the maximum probability. "
   ]
  },
  {
   "cell_type": "code",
   "execution_count": 26,
   "id": "9877747e",
   "metadata": {},
   "outputs": [
    {
     "data": {
      "text/plain": [
       "torch.return_types.max(\n",
       "values=tensor([0.5658], grad_fn=<MaxBackward0>),\n",
       "indices=tensor([0]))"
      ]
     },
     "execution_count": 26,
     "metadata": {},
     "output_type": "execute_result"
    }
   ],
   "source": [
    "torch.max(out, dim=1)\n",
    "# index"
   ]
  },
  {
   "cell_type": "markdown",
   "id": "70785e2c",
   "metadata": {},
   "source": [
    "We will be using the Negative Log Likelihood loss function, conveniently provided in the `nn` module. \n",
    "\n",
    "- We want to maximize the probability associated with the correct class (likelihood). Note that we are interested in ensuring that the correct classes probility is higher than the others (Winning the softmax ranking). We are **not** interested in driving this probability to 1 (like MSE). \n",
    "\n",
    "- In the following example, we have two predictions from our model, in which the correct classification of the input is associated with the second index of the output. \n",
    "\n",
    "    - If we have [0.40, 0.60] we want to maximize the likelihood of the model parameters\n",
    "    - If we have [0.60, 0.40] we want to maximize that likelihood of the model parameters\n",
    "\n",
    "    - In the first example, the likelihood (probability associated with the correct class) is larger than the likelihood of the first index, therefore, we want a low loss (penalty) for this correct classification. \n",
    "    - In the second example, the likelihood (probabilty associated with the correct class) of the second index is lower than the likelihood of the first index. Therefore, we want high loss to correct this misclassification. \n",
    "\n",
    "- From a loss perspective, we want to minimize the negative log-likelihood. \n"
   ]
  },
  {
   "cell_type": "markdown",
   "id": "63e7f22a",
   "metadata": {},
   "source": [
    "\n",
    "- Our input to the loss function needs to be a tensor of log probabilities. \n",
    "    - Therefore we should use `nn.LogSoftmax`\n",
    "        - Softmax providing us with the probabilities, \n",
    "        - Log providing us with a numerically stable Logarithm of these probabilities. \n",
    "\n"
   ]
  },
  {
   "cell_type": "code",
   "execution_count": 33,
   "id": "2ef7791e",
   "metadata": {},
   "outputs": [
    {
     "data": {
      "text/plain": [
       "tensor(0.7045, grad_fn=<NllLossBackward0>)"
      ]
     },
     "execution_count": 33,
     "metadata": {},
     "output_type": "execute_result"
    }
   ],
   "source": [
    "# Let's reqrite the model \n",
    "import torch.nn as nn \n",
    "model = nn.Sequential(\n",
    "    nn.Linear(3072, 512),\n",
    "    nn.Tanh(),\n",
    "    nn.Linear(512, 2),\n",
    "    nn.LogSoftmax(dim=1)\n",
    ")\n",
    "loss = nn.NLLLoss()\n",
    "img, label = cifar2[0]\n",
    "img = to_tensor(img)\n",
    "out = model(img.view(-1).unsqueeze(0))\n",
    "loss(out, torch.tensor([label]))\n"
   ]
  },
  {
   "cell_type": "markdown",
   "id": "92db870a",
   "metadata": {},
   "source": [
    "Note, we are introducing randomness in our gradient descent by estimating the gradient on a few samples at a time. We are working on small batches of shuffled data. It turns out that following gradients estimated over minibatches, which are poorer approximations of gradients estimated across the whole dataset, helps convergence and prevents the optimization process from getting stuck in local minima it encounters along the way. \n",
    "\n",
    "Since gradients estimated over minibatches are poorer approximations of gradients estimated across the whole dataset, we want to use a reasonably small learning rate. \n",
    "\n",
    "Shuffling the data at each epoch is an attempt to help ensure that the sequence of gradients (from the minibatch) is representative of the whole dataset. \n",
    "\n",
    "Minibatches are typically a constant size that we need to set prior to training, just like the learning rate. (hyperparameters)\n",
    "\n",
    "Below we choose minibatches of size 1. We can use the `Dataloader` module from `torch.utils.data.DataLoader` to help with shuffling and organizing the data into minibatches. \n",
    "\n",
    "`DataLoader` provides with a range of different sampling strategies. "
   ]
  },
  {
   "cell_type": "code",
   "execution_count": null,
   "id": "9a4e1037",
   "metadata": {},
   "outputs": [],
   "source": [
    "import torch.optim as optim\n",
    "learning_rate = 1e-2\n",
    "optimizer = optim.SGD(model.parameters(), learning_rate=learning_rate)\n",
    "loss_fn = nn.NLLLoss()\n",
    "n_epochs = 100 \n",
    "\n",
    "for epoch in range(n_epochs):\n",
    "    for img, label in cifar2:\n",
    "        out = model(img.view(-1).unsqueeze(0))\n",
    "        loss = loss_fn(out, torch.tensor([label]))\n",
    "\n",
    "        optimizer.zero_grad()\n",
    "        loss.backward()\n",
    "        optimizer.step()\n",
    "\n",
    "    print(f\"Epoch: {epoch}, Loss: {float(loss)}\")"
   ]
  }
 ],
 "metadata": {
  "kernelspec": {
   "display_name": "CMI-BFRB",
   "language": "python",
   "name": "python3"
  },
  "language_info": {
   "codemirror_mode": {
    "name": "ipython",
    "version": 3
   },
   "file_extension": ".py",
   "mimetype": "text/x-python",
   "name": "python",
   "nbconvert_exporter": "python",
   "pygments_lexer": "ipython3",
   "version": "3.12.3"
  }
 },
 "nbformat": 4,
 "nbformat_minor": 5
}
